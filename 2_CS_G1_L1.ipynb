{
  "nbformat": 4,
  "nbformat_minor": 0,
  "metadata": {
    "colab": {
      "provenance": []
    },
    "kernelspec": {
      "name": "python3",
      "display_name": "Python 3"
    },
    "language_info": {
      "name": "python"
    }
  },
  "cells": [
    {
      "cell_type": "code",
      "execution_count": null,
      "metadata": {
        "id": "KqhKh_-MoO0U"
      },
      "outputs": [],
      "source": []
    },
    {
      "cell_type": "code",
      "source": [
        "x = int(input(\"enter a number: \"))\n",
        "y = int(input(\"enter a number: \"))\n",
        "operation = input(\"enter an operation (+,-,*,/,**): \")\n",
        "\n",
        "if operation==\"+\":\n",
        "  print(x+y)\n",
        "elif operation==\"-\":\n",
        "  print(x-y)\n",
        "elif operation==\"*\":\n",
        "  print(x*y)\n",
        "elif operation==\"x/y\":\n",
        "  print(x/y)\n",
        "elif operation==\"**\":\n",
        "  print(x**y)\n",
        "else:\n",
        "  print(\"error\")\n",
        "\n"
      ],
      "metadata": {
        "colab": {
          "base_uri": "https://localhost:8080/"
        },
        "id": "BIvsljuXpRBg",
        "outputId": "bf79a930-b8c1-4234-9d7b-a5d1543e5435"
      },
      "execution_count": null,
      "outputs": [
        {
          "output_type": "stream",
          "name": "stdout",
          "text": [
            "enter a number: 5\n",
            "enter a number: 2\n",
            "enter an operation (+,-,*,/,**): **\n",
            "25\n"
          ]
        }
      ]
    },
    {
      "cell_type": "code",
      "source": [
        "3**3\n"
      ],
      "metadata": {
        "colab": {
          "base_uri": "https://localhost:8080/"
        },
        "id": "hV_vU5z4rUdu",
        "outputId": "45a1d91b-3e89-452a-b4a5-e85d0673ad55"
      },
      "execution_count": null,
      "outputs": [
        {
          "output_type": "execute_result",
          "data": {
            "text/plain": [
              "27"
            ]
          },
          "metadata": {},
          "execution_count": 15
        }
      ]
    },
    {
      "cell_type": "markdown",
      "source": [
        "ask the user to enter a number and if the number is between O and 1 print the percentage of the number and in any other case print, please enter a number between 0 and 1.\n"
      ],
      "metadata": {
        "id": "KM54UyShr7U8"
      }
    },
    {
      "cell_type": "code",
      "source": [
        "num = float(input(\"enter a number: \"))\n",
        "if num>=0 and num<=1:\n",
        "  print(\"percentage is\",num*100,\"%\")\n",
        "else:\n",
        "  print(\"i cannot do it\")\n"
      ],
      "metadata": {
        "colab": {
          "base_uri": "https://localhost:8080/"
        },
        "id": "IGi6tGw4sOW7",
        "outputId": "b741aa4b-e66e-452d-8526-88fbe1edc3be"
      },
      "execution_count": null,
      "outputs": [
        {
          "output_type": "stream",
          "name": "stdout",
          "text": [
            "enter a number: 0.2345678\n",
            "percentage is 23.45678 %\n"
          ]
        }
      ]
    },
    {
      "cell_type": "markdown",
      "source": [],
      "metadata": {
        "id": "h9RFk5YtxCIO"
      }
    },
    {
      "cell_type": "code",
      "source": [
        "text= \"my name is victor and i live in london\"\n",
        "print(text[3])"
      ],
      "metadata": {
        "colab": {
          "base_uri": "https://localhost:8080/"
        },
        "id": "9RbGIXd1tNgD",
        "outputId": "803634ff-c396-468f-a9c6-b9da70fe33b4"
      },
      "execution_count": null,
      "outputs": [
        {
          "output_type": "stream",
          "name": "stdout",
          "text": [
            "n\n"
          ]
        }
      ]
    },
    {
      "cell_type": "code",
      "source": [
        "text= \"my name is victor and i live in london\"\n",
        "print(text[-3])"
      ],
      "metadata": {
        "colab": {
          "base_uri": "https://localhost:8080/"
        },
        "id": "gju_IuDauuJb",
        "outputId": "c433278a-e518-456e-c981-4794ba2b7a5a"
      },
      "execution_count": null,
      "outputs": [
        {
          "output_type": "stream",
          "name": "stdout",
          "text": [
            "d\n"
          ]
        }
      ]
    },
    {
      "cell_type": "code",
      "source": [
        "city= \"london\"\n",
        "print(city[0:3])"
      ],
      "metadata": {
        "colab": {
          "base_uri": "https://localhost:8080/"
        },
        "id": "Hef1KsnYt6my",
        "outputId": "465d339b-28c6-4f36-df6a-093cac522aa5"
      },
      "execution_count": null,
      "outputs": [
        {
          "output_type": "stream",
          "name": "stdout",
          "text": [
            "lon\n"
          ]
        }
      ]
    },
    {
      "cell_type": "code",
      "source": [
        "text= \"my name is victor and i live in london\"\n",
        "print(text[-9:])"
      ],
      "metadata": {
        "colab": {
          "base_uri": "https://localhost:8080/"
        },
        "id": "NczTLZKhvZDO",
        "outputId": "e4a25aeb-39f9-4b83-f2ae-0b60992ff757"
      },
      "execution_count": null,
      "outputs": [
        {
          "output_type": "stream",
          "name": "stdout",
          "text": [
            "in lond\n"
          ]
        }
      ]
    },
    {
      "cell_type": "code",
      "source": [
        "text= \"my name is victor and i live in london\"\n",
        "print(text[-9:-7])"
      ],
      "metadata": {
        "colab": {
          "base_uri": "https://localhost:8080/"
        },
        "id": "Il0Y9ZU8wKp-",
        "outputId": "7a441e60-3359-4f47-9fe6-674d62fec1d1"
      },
      "execution_count": null,
      "outputs": [
        {
          "output_type": "stream",
          "name": "stdout",
          "text": [
            "in\n"
          ]
        }
      ]
    },
    {
      "cell_type": "code",
      "source": [],
      "metadata": {
        "id": "D2aBkhzzxJdP"
      },
      "execution_count": null,
      "outputs": []
    },
    {
      "cell_type": "markdown",
      "source": [
        "Ask the user to enter a city. If the user enters a city starting with L capital, print\" starts with L capital\" else, print something else.\n"
      ],
      "metadata": {
        "id": "LEuX4I8wxJ8_"
      }
    },
    {
      "cell_type": "code",
      "source": [
        "city= input(\"enter a city: \")\n",
        "if city[O]==\"L\":\n",
        "  print(\"starts with L\")\n",
        "else:\n",
        "  print(\"asdadas\")\n"
      ],
      "metadata": {
        "colab": {
          "base_uri": "https://localhost:8080/",
          "height": 233
        },
        "id": "bsYkrXMYxZj9",
        "outputId": "218e7607-497a-4a81-bfd8-909956400b15"
      },
      "execution_count": null,
      "outputs": [
        {
          "name": "stdout",
          "output_type": "stream",
          "text": [
            "enter a city: London\n"
          ]
        },
        {
          "output_type": "error",
          "ename": "NameError",
          "evalue": "name 'O' is not defined",
          "traceback": [
            "\u001b[0;31m---------------------------------------------------------------------------\u001b[0m",
            "\u001b[0;31mNameError\u001b[0m                                 Traceback (most recent call last)",
            "\u001b[0;32m<ipython-input-39-927b16858e7f>\u001b[0m in \u001b[0;36m<cell line: 2>\u001b[0;34m()\u001b[0m\n\u001b[1;32m      1\u001b[0m \u001b[0mcity\u001b[0m\u001b[0;34m=\u001b[0m \u001b[0minput\u001b[0m\u001b[0;34m(\u001b[0m\u001b[0;34m\"enter a city: \"\u001b[0m\u001b[0;34m)\u001b[0m\u001b[0;34m\u001b[0m\u001b[0;34m\u001b[0m\u001b[0m\n\u001b[0;32m----> 2\u001b[0;31m \u001b[0;32mif\u001b[0m \u001b[0mcity\u001b[0m\u001b[0;34m[\u001b[0m\u001b[0mO\u001b[0m\u001b[0;34m]\u001b[0m\u001b[0;34m==\u001b[0m\u001b[0;34m\"L\"\u001b[0m\u001b[0;34m:\u001b[0m\u001b[0;34m\u001b[0m\u001b[0;34m\u001b[0m\u001b[0m\n\u001b[0m\u001b[1;32m      3\u001b[0m   \u001b[0mprint\u001b[0m\u001b[0;34m(\u001b[0m\u001b[0;34m\"starts with L\"\u001b[0m\u001b[0;34m)\u001b[0m\u001b[0;34m\u001b[0m\u001b[0;34m\u001b[0m\u001b[0m\n\u001b[1;32m      4\u001b[0m \u001b[0;32melse\u001b[0m\u001b[0;34m:\u001b[0m\u001b[0;34m\u001b[0m\u001b[0;34m\u001b[0m\u001b[0m\n\u001b[1;32m      5\u001b[0m   \u001b[0mprint\u001b[0m\u001b[0;34m(\u001b[0m\u001b[0;34m\"asdadas\"\u001b[0m\u001b[0;34m)\u001b[0m\u001b[0;34m\u001b[0m\u001b[0;34m\u001b[0m\u001b[0m\n",
            "\u001b[0;31mNameError\u001b[0m: name 'O' is not defined"
          ]
        }
      ]
    },
    {
      "cell_type": "code",
      "source": [],
      "metadata": {
        "id": "jf1yaSmAyM3z"
      },
      "execution_count": null,
      "outputs": []
    },
    {
      "cell_type": "markdown",
      "source": [
        "ask to enter a phrase. if the phrase finish with dot(.)say, you need a dot! else say all good!\n",
        "London is the capital of UK\n"
      ],
      "metadata": {
        "id": "5fbxfhXayP7G"
      }
    },
    {
      "cell_type": "code",
      "source": [
        "phrase = input(\"enter a phrase: \")\n",
        "\n",
        "if phrase[-1]!=\".\":\n",
        "  print(\"u need to do a dot!\")\n",
        "else:\n",
        "  print(\"all good\")\n",
        "\n"
      ],
      "metadata": {
        "colab": {
          "base_uri": "https://localhost:8080/"
        },
        "id": "DofWW2cryhqP",
        "outputId": "cc18f8fd-123c-441a-9bec-c233b3655111"
      },
      "execution_count": null,
      "outputs": [
        {
          "output_type": "stream",
          "name": "stdout",
          "text": [
            "enter a phrase: cfghgvhu\n",
            "u need to do a dot!\n"
          ]
        }
      ]
    }
  ]
}