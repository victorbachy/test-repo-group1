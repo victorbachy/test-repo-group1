{
  "nbformat": 4,
  "nbformat_minor": 0,
  "metadata": {
    "colab": {
      "provenance": []
    },
    "kernelspec": {
      "name": "python3",
      "display_name": "Python 3"
    },
    "language_info": {
      "name": "python"
    }
  },
  "cells": [
    {
      "cell_type": "code",
      "execution_count": null,
      "metadata": {
        "id": "KHxOidAir7du"
      },
      "outputs": [],
      "source": []
    },
    {
      "cell_type": "code",
      "source": [
        "from pickle import TRUE\n",
        "num = int(input(\"enter a number: \"))\n",
        "\n",
        "if num>0:\n",
        "  positive=True\n",
        "else:\n",
        "  positive=False\n",
        "print(\"is positive?\", positive)"
      ],
      "metadata": {
        "colab": {
          "base_uri": "https://localhost:8080/"
        },
        "id": "tZqnMmkHsa7O",
        "outputId": "7af30268-2520-4021-db9c-e8a605a8feb3"
      },
      "execution_count": 2,
      "outputs": [
        {
          "output_type": "stream",
          "name": "stdout",
          "text": [
            "enter a number: 5\n",
            "is positive? True\n"
          ]
        }
      ]
    },
    {
      "cell_type": "markdown",
      "source": [
        "* if age <18 you cant watch film\n",
        "* if age >=18 you can watch\n",
        "* if age over 60 you are a senior and have a discount"
      ],
      "metadata": {
        "id": "uoN0vhup5WC3"
      }
    },
    {
      "cell_type": "code",
      "source": [
        "age = int(input(\"enter your age: \"))\n",
        "if age<18:\n",
        "  watch = False\n",
        "else:\n",
        "  watch = True\n",
        "if age >=60:\n",
        "  senior = True\n",
        "else:\n",
        "  senior = False\n",
        "print(age,watch,senior)"
      ],
      "metadata": {
        "colab": {
          "base_uri": "https://localhost:8080/"
        },
        "id": "RlbZwQb65qUx",
        "outputId": "24e739aa-2ccf-44d2-82d4-9259729a9b18"
      },
      "execution_count": 7,
      "outputs": [
        {
          "output_type": "stream",
          "name": "stdout",
          "text": [
            "enter your age: 59\n",
            "59 True False\n"
          ]
        }
      ]
    },
    {
      "cell_type": "code",
      "source": [
        "score = int(input(\"enter your score: \"))\n",
        "\n",
        "if score<10:\n",
        "  fail=True\n",
        "else:\n",
        "  fail=False\n",
        "if score >=15:\n",
        "  distinction=True\n",
        "else:\n",
        "  distinction=False\n",
        "print(score,fail,distinction)\n"
      ],
      "metadata": {
        "colab": {
          "base_uri": "https://localhost:8080/"
        },
        "id": "2ggzXoRZ6yiX",
        "outputId": "b5632c0a-041e-459e-af58-5d32310d0a0c"
      },
      "execution_count": 13,
      "outputs": [
        {
          "output_type": "stream",
          "name": "stdout",
          "text": [
            "enter your score: 11\n",
            "11 False False\n"
          ]
        }
      ]
    },
    {
      "cell_type": "markdown",
      "source": [
        "*if temp <20, turn on the heat\n",
        "*if the heat is on you, close the windows\n",
        "*if the windows are closed, turn on the ventilation\n"
      ],
      "metadata": {
        "id": "jkY5ZKT87vvC"
      }
    },
    {
      "cell_type": "markdown",
      "source": [
        "* if score< 10 you fail\n",
        "*if 10-20 you pass\n",
        "* if >15 distinction\n",
        "\n",
        "if u get a distinction, you get an award"
      ],
      "metadata": {
        "id": "MUJL-gxn6itF"
      }
    },
    {
      "cell_type": "code",
      "source": [
        "temp = int(input(\"enter a temp: \"))\n",
        "\n",
        "if temp<20:\n",
        "  heat=True\n",
        "else:\n",
        "  heat=False\n",
        "\n",
        "if heat==True:\n",
        "  closed_windows=True\n",
        "else:\n",
        "  closed_windows=False\n",
        "\n",
        "if closed_windows==True:\n",
        "  ventilation=True\n",
        "else:\n",
        "  ventilation=True\n",
        "\n",
        "print(temp,heat,closed_windows,ventilation)\n",
        "\n",
        "\n"
      ],
      "metadata": {
        "colab": {
          "base_uri": "https://localhost:8080/"
        },
        "id": "qIWvnd068Bg0",
        "outputId": "891ce1de-5a1e-4268-af03-ba01b09c8601"
      },
      "execution_count": 15,
      "outputs": [
        {
          "output_type": "stream",
          "name": "stdout",
          "text": [
            "enter a temp: 16\n",
            "16 True True True\n"
          ]
        }
      ]
    },
    {
      "cell_type": "code",
      "source": [
        "students = ['mary','tom','stelios','kate']\n",
        "scores = [15,12,8,18]\n",
        "print(students[0:2])\n",
        "print(scores)\n",
        "\n"
      ],
      "metadata": {
        "colab": {
          "base_uri": "https://localhost:8080/"
        },
        "id": "k8UCrVXW9qE8",
        "outputId": "7867008c-8822-4ad4-e454-c0a6b751b3ed"
      },
      "execution_count": 18,
      "outputs": [
        {
          "output_type": "stream",
          "name": "stdout",
          "text": [
            "['mary', 'tom']\n",
            "[15, 12, 8, 15]\n"
          ]
        }
      ]
    },
    {
      "cell_type": "code",
      "source": [
        "scores[1:3]"
      ],
      "metadata": {
        "colab": {
          "base_uri": "https://localhost:8080/"
        },
        "id": "v44a38K1-7XB",
        "outputId": "0da48e07-071c-4be9-fdeb-5996a66cc700"
      },
      "execution_count": 19,
      "outputs": [
        {
          "output_type": "execute_result",
          "data": {
            "text/plain": [
              "[12, 8]"
            ]
          },
          "metadata": {},
          "execution_count": 19
        }
      ]
    },
    {
      "cell_type": "code",
      "source": [
        "numbers = [10,20,30,40,50,60,70,80,90]\n",
        "print(numbers[4:6])\n",
        "print(numbers[-3:])"
      ],
      "metadata": {
        "colab": {
          "base_uri": "https://localhost:8080/"
        },
        "id": "92SdZnz0_IrI",
        "outputId": "53a169f7-1374-457b-86c8-0437688ba492"
      },
      "execution_count": 34,
      "outputs": [
        {
          "output_type": "stream",
          "name": "stdout",
          "text": [
            "[50, 60]\n",
            "[70, 80, 90]\n"
          ]
        }
      ]
    }
  ]
}